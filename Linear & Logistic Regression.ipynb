{
 "cells": [
  {
   "cell_type": "code",
   "execution_count": 2,
   "id": "99df8fb0",
   "metadata": {},
   "outputs": [],
   "source": [
    "import numpy as np"
   ]
  },
  {
   "cell_type": "markdown",
   "id": "66bd1316",
   "metadata": {},
   "source": [
    "### Linear Reg"
   ]
  },
  {
   "cell_type": "code",
   "execution_count": 3,
   "id": "8e29fc4d",
   "metadata": {},
   "outputs": [],
   "source": [
    "class LinearRegression:\n",
    "    def __init__(self, learning_rate, iterations):\n",
    "        self.learning_rate = learning_rate\n",
    "        self.iterations = iterations\n",
    "        \n",
    "    def fit(self, X_train, y_train):\n",
    "        self.X_train = X_train\n",
    "        self.y_train = y_train\n",
    "        \n",
    "        # m num training examples, n num of features\n",
    "        self.m, self.n = X_train.shape \n",
    "        \n",
    "        # initialization\n",
    "        self.w = np.zeros(self.n)\n",
    "        self.b = 0\n",
    "        \n",
    "        # hypothesis = wX+b\n",
    "        for i in range(self.iterations):\n",
    "            y_pred = np.dot(self.w, self.X_train) + self.b\n",
    "            \n",
    "            # Gradient Descent\n",
    "            dw = -(1/self.n) * np.dot(self.X_train.T, (self.y_train - y_pred))\n",
    "            db = -(1/self.n) * np.sum(self.y_train - y_pred)\n",
    "            \n",
    "            self.w -= self.learning_rate * dw\n",
    "            self.b -= self.learning_rate * db\n",
    "            \n",
    "    def predict(self, x_test):\n",
    "        return np.dot(x_test, self.w) + self.b"
   ]
  },
  {
   "cell_type": "markdown",
   "id": "67461416",
   "metadata": {},
   "source": [
    "### Logistic Reg"
   ]
  },
  {
   "cell_type": "code",
   "execution_count": null,
   "id": "45380973",
   "metadata": {},
   "outputs": [],
   "source": []
  },
  {
   "cell_type": "markdown",
   "id": "9c8247d5",
   "metadata": {},
   "source": [
    "# Linear/Logistic R "
   ]
  },
  {
   "cell_type": "code",
   "execution_count": 1,
   "id": "cd05b210",
   "metadata": {},
   "outputs": [
    {
     "ename": "SyntaxError",
     "evalue": "invalid syntax (4152003839.py, line 33)",
     "output_type": "error",
     "traceback": [
      "\u001b[0;36m  Input \u001b[0;32mIn [1]\u001b[0;36m\u001b[0m\n\u001b[0;31m    dbias = -(1/n_samples) * np.sum(y_train - y_pred)\u001b[0m\n\u001b[0m    ^\u001b[0m\n\u001b[0;31mSyntaxError\u001b[0m\u001b[0;31m:\u001b[0m invalid syntax\n"
     ]
    }
   ],
   "source": [
    "class Regression:\n",
    "    def __init__(self, algorithm, learning_rate, n_iterations):\n",
    "        \"\"\"\n",
    "        Parameters:\n",
    "        algorithm: 0 = Linear Reg, 1 = logistic Reg\n",
    "        learning_rate: alpha\n",
    "        n_iterations: number of iteration\n",
    "        \"\"\"\n",
    "        self.algorithm = algorithm\n",
    "        self.learning_rate = learning_rate\n",
    "        self.n_iterations = n_iterations\n",
    "        \n",
    "        self.weights = None   # weights\n",
    "        self.bias = None   # bias\n",
    "        \n",
    "    def fit(self, X_train, y_train):\n",
    "        self.X_train = X_train\n",
    "        self.y_train = y_train\n",
    "        \n",
    "        n_samples, n_features = X_train.shape   # m: num of training examples, n: num of features\n",
    "        \n",
    "        self.weights = np.zeros(n_features)\n",
    "        self.bias = 0\n",
    "        \n",
    "        for _ in range(self.n_iterations):\n",
    "            if algorithm == 0:   # Linear Reg\n",
    "                y_pred = np.dot(X_train, self.weights) + self.bias\n",
    "            else:   # Logistic Reg\n",
    "                y_pred = sigmoid(np.dot(X_train, self.weights) + self.bias)\n",
    "                \n",
    "            # Compute derivatives:\n",
    "            dweights = -(1/n_samples) * np.dot(X_train, (y_train - y_pred)\n",
    "            dbias = -(1/n_samples) * np.sum(y_train - y_pred)\n",
    "                                      \n",
    "            # Gradient descent\n",
    "            self.weights -= self.learning_rate * dweights\n",
    "            self.bias -= self.learning_rate * dbias\n",
    "        \n",
    "        \n",
    "    def sigmoid(self, z):\n",
    "        return 1/(1 + np.exp(-z))\n",
    "    \n",
    "    def predict(self, x_test):\n",
    "        return (np.dot(X_test, self.weights) + self.bias)"
   ]
  },
  {
   "cell_type": "code",
   "execution_count": null,
   "id": "d1a707a1",
   "metadata": {},
   "outputs": [],
   "source": []
  }
 ],
 "metadata": {
  "kernelspec": {
   "display_name": "Python 3 (ipykernel)",
   "language": "python",
   "name": "python3"
  },
  "language_info": {
   "codemirror_mode": {
    "name": "ipython",
    "version": 3
   },
   "file_extension": ".py",
   "mimetype": "text/x-python",
   "name": "python",
   "nbconvert_exporter": "python",
   "pygments_lexer": "ipython3",
   "version": "3.9.12"
  }
 },
 "nbformat": 4,
 "nbformat_minor": 5
}
